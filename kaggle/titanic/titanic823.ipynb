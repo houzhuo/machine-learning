{
 "cells": [
  {
   "cell_type": "code",
   "execution_count": 1,
   "metadata": {},
   "outputs": [
    {
     "name": "stderr",
     "output_type": "stream",
     "text": [
      "/Users/houzhuo/anaconda2/lib/python2.7/site-packages/sklearn/cross_validation.py:41: DeprecationWarning: This module was deprecated in version 0.18 in favor of the model_selection module into which all the refactored classes and functions are moved. Also note that the interface of the new CV iterators are different from that of this module. This module will be removed in 0.20.\n",
      "  \"This module will be removed in 0.20.\", DeprecationWarning)\n"
     ]
    },
    {
     "name": "stdout",
     "output_type": "stream",
     "text": [
      "('Datasets:', 'full:', (1309, 12), 'titanic:', (891, 12))\n",
      "<class 'pandas.core.frame.DataFrame'>\n",
      "RangeIndex: 1309 entries, 0 to 1308\n",
      "Data columns (total 12 columns):\n",
      "Age            1046 non-null float64\n",
      "Cabin          295 non-null object\n",
      "Embarked       1307 non-null object\n",
      "Fare           1308 non-null float64\n",
      "Name           1309 non-null object\n",
      "Parch          1309 non-null int64\n",
      "PassengerId    1309 non-null int64\n",
      "Pclass         1309 non-null int64\n",
      "Sex            1309 non-null object\n",
      "SibSp          1309 non-null int64\n",
      "Survived       891 non-null float64\n",
      "Ticket         1309 non-null object\n",
      "dtypes: float64(3), int64(4), object(5)\n",
      "memory usage: 122.8+ KB\n"
     ]
    }
   ],
   "source": [
    "# Ignore warnings\n",
    "import warnings\n",
    "warnings.filterwarnings('ignore')\n",
    "\n",
    "# Handle table-like data and matrices\n",
    "import numpy as np\n",
    "import pandas as pd\n",
    "\n",
    "# Modelling Algorithms\n",
    "from sklearn.tree import DecisionTreeClassifier\n",
    "from sklearn.ensemble import RandomForestClassifier , GradientBoostingClassifier\n",
    "\n",
    "# Modelling Helpers\n",
    "from sklearn.preprocessing import Imputer , Normalizer , scale\n",
    "from sklearn.cross_validation import train_test_split , StratifiedKFold\n",
    "from sklearn.feature_selection import RFECV\n",
    "from sklearn.preprocessing import LabelEncoder\n",
    "\n",
    "# Visualisation\n",
    "import matplotlib as mpl\n",
    "import matplotlib.pyplot as plt\n",
    "import matplotlib.pylab as pylab\n",
    "import seaborn as sns\n",
    "%matplotlib inline\n",
    "from matplotlib.pylab import rcParams\n",
    "rcParams['figure.figsize'] = 12, 4\n",
    "# Configure visualisations\n",
    "#%matplotlib inline\n",
    "mpl.style.use( 'ggplot' )\n",
    "sns.set_style( 'white' )\n",
    "sns.set(color_codes=True) # Set style and color of graphs\n",
    "\n",
    "train = pd.read_csv(\"/Users/houzhuo/Downloads/train.csv\")\n",
    "test    = pd.read_csv(\"/Users/houzhuo/Downloads/test.csv\")\n",
    "full = train.append(test,ignore_index=True)\n",
    "titanic = full[:891]\n",
    "print ('Datasets:' , 'full:' , full.shape , 'titanic:' , titanic.shape)\n",
    "full.info()"
   ]
  },
  {
   "cell_type": "code",
   "execution_count": 2,
   "metadata": {},
   "outputs": [
    {
     "data": {
      "image/png": "[encoded data removed]",
      "text/plain": [
       "<matplotlib.figure.Figure at 0x1a16738fd0>"
      ]
     },
     "metadata": {},
     "output_type": "display_data"
    }
   ],
   "source": [
    "#Title\n",
    "title = pd.DataFrame()\n",
    "full['Title'] = full['Name'].map(lambda name:name.split(',')[1].split( '.' )[0].strip())\n",
    "plt.figure(figsize=(14,6))\n",
    "sns.barplot('Title', 'Survived', data=full)\n",
    "#plt.show()\n",
    "full['Title'] = full['Title'].replace(['Don','Dona', 'Major', 'Capt', 'Jonkheer', 'Rev', 'Col','Sir','Dr'],'Mr')\n",
    "full['Title'] = full['Title'].replace(['Mlle','Ms'], 'Miss')\n",
    "full['Title'] = full['Title'].replace(['the Countess','Mme','Lady','Dr'], 'Mrs')\n",
    "title = pd.get_dummies(full['Title'],prefix='Title')\n",
    "full = pd.concat([full,title],axis=1)\n",
    "sns.barplot('Title', 'Survived', data=full)\n",
    "\n",
    "#Age & isChild\n",
    "group = full.groupby(['Sex','Title', 'Pclass'])['Age']\n",
    "full['Age'] = group.transform(lambda x: x.fillna(x.median()))\n",
    "full['IsChild'] = np.where(full['Age']<=12,1,0)\n",
    "full['IsOld'] = np.where(full['Age']>=63,1,0)\n",
    "\n",
    "#Dead_female_family & Survive_male_family\n",
    "full['Surname'] = full['Name'].apply(lambda x:x.split(',')[0])\n",
    "dead_female_surname = list(set(full[(full.Sex=='female') & (full.Age>=12)\n",
    "                              & (full.Survived==0) & ((full.Parch>0) | (full.SibSp > 0))]['Surname'].values))\n",
    "survive_male_surname = list(set(full[(full.Sex=='male') & (full.Age>=12)\n",
    "                              & (full.Survived==1) & ((full.Parch>0) | (full.SibSp > 0))]['Surname'].values))\n",
    "full['Dead_female_family'] = np.where(full['Surname'].isin(dead_female_surname),0,1)\n",
    "full['Survive_male_family'] = np.where(full['Surname'].isin(survive_male_surname),0,1)\n",
    "#full = full.drop(['Name','Surname'],axis=1)\n",
    "\n",
    "#FamilySize\n",
    "full['FamilySize'] = np.where(full['SibSp']+full['Parch']==0, 'Alone',\n",
    "                                    np.where(full['SibSp']+full['Parch']<=3, 'Small', 'Big'))\n",
    "sns.barplot('FamilySize', 'Survived', data=full)\n",
    "df = pd.get_dummies(full['FamilySize'],prefix='FamilySize')\n",
    "full = pd.concat([full,df],axis=1).drop(['SibSp','Parch','FamilySize'],axis=1)\n",
    "\n",
    "#Ticket_letter\n",
    "full['Ticket_Lett'] = full['Ticket'].apply(lambda x: str(x)[0])\n",
    "full['Ticket_Lett'] = full['Ticket_Lett'].apply(lambda x: str(x))\n",
    "sns.barplot('Ticket_Lett', 'Survived', data=full)\n",
    "full['High_Survival_Ticket'] = np.where(full['Ticket_Lett'].isin(['1', '2', 'P']),1,0)\n",
    "full['Low_Survival_Ticket'] = np.where(full['Ticket_Lett'].isin(['A','W','3','7']),1,0)\n",
    "#full = full.drop(['Ticket','Ticket_Lett'],axis=1)\n",
    "\n",
    "#Embarked\n",
    "#full = full.drop('Embarked',axis=1)\n",
    "full['Embarked_isC'] = np.where(full['Embarked']=='C',1,0)\n",
    "#sns.barplot('Embarked_isC','Survived',data=full)\n",
    "\n",
    "#Cabin\n",
    "full[ 'Cabin' ] = full.Cabin.fillna( 'U' )\n",
    "full['Cabin_isNull'] = np.where(full['Cabin']=='U',1,0)\n",
    "#sns.barplot('Cabin_isNull','Survived',data=full)\n",
    "full = full.drop('Cabin',axis=1)\n",
    "\n",
    "#PClass\n",
    "df = pd.get_dummies(full['Pclass'],prefix='Pclass')\n",
    "full = pd.concat([full,df],axis=1).drop('Pclass',axis=1)\n",
    "\n",
    "#Sex\n",
    "full['Sex'] = pd.Series( np.where( full.Sex == 'male' , 1 , 0 ) , name = 'Sex' )\n",
    "\n",
    "#Fare\n",
    "full['Fare'].fillna(full['Fare'].dropna().median(),inplace=True)\n",
    "full['Low_Fare'] = np.where(full['Fare']<=8.66,1,0)\n",
    "full['High_Fare'] = np.where(full['Fare']>=26,1,0)\n",
    "#Ticket_count\n",
    "#full[\"TicketCount\"] = full.Ticket.apply(lambda x: 1 if x in full.Ticket.unique() and\n",
    "                                        #full.Ticket.value_counts()[x] > 1  else 0)\n",
    "#np.where(full['TicketCount']=='CA. 2343')\n",
    "#full[\"TicketCount\"]"
   ]
  },
  {
   "cell_type": "code",
   "execution_count": 3,
   "metadata": {},
   "outputs": [],
   "source": [
    "full_X = full\n",
    "full_X = full_X.drop('PassengerId',axis=1)\n",
    "full_X = full_X.drop('Survived',axis=1)\n",
    "full_X = full_X.drop('Embarked',axis=1)\n",
    "full_X = full_X.drop('Age',axis=1)\n",
    "full_X = full_X.drop('Name',axis=1)\n",
    "full_X = full_X.drop('Surname',axis=1)\n",
    "full_X = full_X.drop('Title',axis=1)\n",
    "full_X = full_X.drop('Fare',axis=1)\n",
    "full_X = full_X.drop('Ticket',axis=1)\n",
    "full_X = full_X.drop('Ticket_Lett',axis=1)"
   ]
  },
  {
   "cell_type": "code",
   "execution_count": 4,
   "metadata": {},
   "outputs": [
    {
     "name": "stdout",
     "output_type": "stream",
     "text": [
      "((1309, 21), (891, 21), (418, 21), (891,))\n",
      "<class 'pandas.core.frame.DataFrame'>\n",
      "RangeIndex: 891 entries, 0 to 890\n",
      "Data columns (total 21 columns):\n",
      "Sex                     891 non-null int64\n",
      "Title_Master            891 non-null uint8\n",
      "Title_Miss              891 non-null uint8\n",
      "Title_Mr                891 non-null uint8\n",
      "Title_Mrs               891 non-null uint8\n",
      "IsChild                 891 non-null int64\n",
      "IsOld                   891 non-null int64\n",
      "Dead_female_family      891 non-null int64\n",
      "Survive_male_family     891 non-null int64\n",
      "FamilySize_Alone        891 non-null uint8\n",
      "FamilySize_Big          891 non-null uint8\n",
      "FamilySize_Small        891 non-null uint8\n",
      "High_Survival_Ticket    891 non-null int64\n",
      "Low_Survival_Ticket     891 non-null int64\n",
      "Embarked_isC            891 non-null int64\n",
      "Cabin_isNull            891 non-null int64\n",
      "Pclass_1                891 non-null uint8\n",
      "Pclass_2                891 non-null uint8\n",
      "Pclass_3                891 non-null uint8\n",
      "Low_Fare                891 non-null int64\n",
      "High_Fare               891 non-null int64\n",
      "dtypes: int64(11), uint8(10)\n",
      "memory usage: 85.3 KB\n"
     ]
    }
   ],
   "source": [
    "X_train= full_X[ 0:891 ]\n",
    "y_train = titanic.Survived\n",
    "X_test = full_X[ 891: ]\n",
    "print (full_X.shape , X_train.shape , X_test.shape , y_train.shape )\n",
    "X_train.info()"
   ]
  },
  {
   "cell_type": "code",
   "execution_count": null,
   "metadata": {},
   "outputs": [],
   "source": [
    "!pip install mlxtend  "
   ]
  },
  {
   "cell_type": "code",
   "execution_count": 27,
   "metadata": {},
   "outputs": [],
   "source": [
    "from sklearn import model_selection\n",
    "from sklearn.linear_model import LogisticRegression\n",
    "from sklearn.neighbors import KNeighborsClassifier\n",
    "from sklearn.naive_bayes import GaussianNB \n",
    "from mlxtend.classifier import StackingClassifier\n",
    "from sklearn.ensemble import (RandomForestClassifier, AdaBoostClassifier, \n",
    "                              GradientBoostingClassifier, ExtraTreesClassifier)\n",
    "from sklearn.svm import SVC\n",
    "\n",
    "# Put in our parameters for said classifiers\n",
    "# Random Forest parameters\n",
    "rf_params = {\n",
    "    'n_jobs': -1,\n",
    "    'n_estimators': 50,\n",
    "     'warm_start': True, \n",
    "     #'max_features': 0.2,\n",
    "    'max_depth': 6,\n",
    "    'min_samples_leaf': 2,\n",
    "    'max_features' : 'sqrt',\n",
    "    'verbose': 0,\n",
    "    'bootstrap': False \n",
    "}\n",
    "\n",
    "# Extra Trees Parameters\n",
    "et_params = {\n",
    "    'n_jobs': -1,\n",
    "    'n_estimators':50,\n",
    "    #'max_features': 0.5,\n",
    "    'max_depth': 8,\n",
    "    'min_samples_leaf': 2,\n",
    "    'verbose': 0\n",
    "}\n",
    "\n",
    "# AdaBoost parameters\n",
    "ada_params = {\n",
    "    'n_estimators': 50,\n",
    "    'learning_rate' : 0.75\n",
    "}\n",
    "\n",
    "# Gradient Boosting parameters\n",
    "gb_params = {\n",
    "        'n_estimators':51,\n",
    "        'max_depth':5,\n",
    "        'min_samples_split':12,\n",
    "        'min_samples_leaf':1, \n",
    "        'random_state':10, \n",
    "        #'max_features':11\n",
    "}\n",
    "\n",
    "# Support Vector Classifier parameters \n",
    "svc_params = {\n",
    "    'kernel' : 'linear',\n",
    "    'C' : 0.025\n",
    "    }\n",
    "\n",
    "knn_params = {\n",
    "    'n_neighbors' : 3\n",
    "    }\n",
    "lr_params = {\n",
    "    'tol':0.0001,\n",
    "    'C':1.0\n",
    "    }\n",
    "\n",
    "nb_params = {\n",
    "    \n",
    "    }"
   ]
  },
  {
   "cell_type": "code",
   "execution_count": 28,
   "metadata": {},
   "outputs": [
    {
     "name": "stdout",
     "output_type": "stream",
     "text": [
      "5-fold cross validation:\n",
      "\n",
      "Accuracy: 0.85 (+/- 0.03) [KNN]\n",
      "Accuracy: 0.88 (+/- 0.02) [Random Forest]\n",
      "Accuracy: 0.83 (+/- 0.05) [Naive Bayes]\n",
      "Accuracy: 0.85 (+/- 0.01) [SVC]\n",
      "Accuracy: 0.89 (+/- 0.02) [LogisticRegression]\n",
      "Accuracy: 0.86 (+/- 0.02) [StackingClassifier]\n"
     ]
    }
   ],
   "source": [
    "knn = KNeighborsClassifier(n_neighbors=3)\n",
    "rf = RandomForestClassifier(**rf_params)\n",
    "nb = GaussianNB()\n",
    "lr = LogisticRegression(**lr_params)\n",
    "svc = SVC(**svc_params)\n",
    "gb = GradientBoostingClassifier(**gb_params)\n",
    "sclf = StackingClassifier(classifiers=[knn, rf, nb, svc, lr], \n",
    "                          meta_classifier=gb)\n",
    "\n",
    "print('5-fold cross validation:\\n')\n",
    "\n",
    "for clf, label in zip([knn, rf, nb, svc, lr, sclf], \n",
    "                      ['KNN', \n",
    "                       'Random Forest', \n",
    "                       'Naive Bayes',\n",
    "                       'SVC',\n",
    "                       'LogisticRegression',\n",
    "                       'StackingClassifier']):\n",
    "\n",
    "    scores = model_selection.cross_val_score(clf, X_train, y_train, \n",
    "                                              cv=5, scoring='accuracy')\n",
    "    print(\"Accuracy: %0.2f (+/- %0.2f) [%s]\" \n",
    "          % (scores.mean(), scores.std(), label))"
   ]
  },
  {
   "cell_type": "code",
   "execution_count": 16,
   "metadata": {},
   "outputs": [],
   "source": []
  },
  {
   "cell_type": "code",
   "execution_count": 29,
   "metadata": {},
   "outputs": [
    {
     "name": "stdout",
     "output_type": "stream",
     "text": [
      "Accuracy: 0.86 (+/- 0.02) [StackingClassifier]\n"
     ]
    }
   ],
   "source": [
    "\n",
    "sclf.fit(X_train,y_train)\n",
    "scores = model_selection.cross_val_score(sclf, X_train, y_train, \n",
    "                                              cv=5, scoring='accuracy')\n",
    "print(\"Accuracy: %0.2f (+/- %0.2f) [%s]\" \n",
    "          % (scores.mean(), scores.std(), label))"
   ]
  },
  {
   "cell_type": "code",
   "execution_count": 30,
   "metadata": {},
   "outputs": [],
   "source": [
    "y_test = sclf.predict( X_test )\n",
    "\n",
    "passenger_id = full[891:].PassengerId\n",
    "test = pd.DataFrame( { 'PassengerId': passenger_id , 'Survived': y_test.astype(np.int64) } )\n",
    "#test.shape\n",
    "#test.head()\n",
    "test.to_csv( 'titanic_pred.csv' , index = False )"
   ]
  },
  {
   "cell_type": "code",
   "execution_count": null,
   "metadata": {},
   "outputs": [],
   "source": []
  }
 ],
 "metadata": {
  "kernelspec": {
   "display_name": "Python 2",
   "language": "python",
   "name": "python2"
  },
  "language_info": {
   "codemirror_mode": {
    "name": "ipython",
    "version": 2
   },
   "file_extension": ".py",
   "mimetype": "text/x-python",
   "name": "python",
   "nbconvert_exporter": "python",
   "pygments_lexer": "ipython2",
   "version": "2.7.14"
  }
 },
 "nbformat": 4,
 "nbformat_minor": 2
}
